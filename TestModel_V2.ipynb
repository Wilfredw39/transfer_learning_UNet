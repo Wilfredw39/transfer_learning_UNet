{
 "cells": [
  {
   "cell_type": "code",
   "execution_count": 1,
   "id": "84dd9fc1",
   "metadata": {},
   "outputs": [],
   "source": [
    "import matplotlib.pyplot as plt\n",
    "import pandas as pd\n",
    "\n",
    "import matplotlib.pyplot as plt\n",
    "import seaborn as sns\n",
    "import os \n",
    "from tqdm.notebook import tqdm_notebook as tqdm\n",
    "import cv2\n",
    "import skimage\n",
    "from skimage.transform import resize\n",
    "import tensorflow as tf\n",
    "import keras\n",
    "from keras.models import Model\n",
    "from keras.layers import Input, Conv2D, MaxPooling2D, UpSampling2D, concatenate, Conv2DTranspose, BatchNormalization, Dropout, Lambda\n",
    "from keras.layers import Activation, MaxPool2D, Concatenate\n",
    "from tensorflow.keras.optimizers import Adam\n",
    "import numpy as np "
   ]
  },
  {
   "cell_type": "code",
   "execution_count": 2,
   "id": "db586727",
   "metadata": {},
   "outputs": [],
   "source": [
    "# physical_devices = tf.config.experimental.list_physical_devices('GPU')\n",
    "# print(physical_devices)\n",
    "# if physical_devices:\n",
    "#     tf.config.experimental.set_memory_growth(physical_devices[0], True)"
   ]
  },
  {
   "cell_type": "code",
   "execution_count": 3,
   "id": "338d5255",
   "metadata": {},
   "outputs": [],
   "source": [
    "try:\n",
    "    # Disable all GPUS\n",
    "    tf.config.set_visible_devices([], 'GPU')\n",
    "    visible_devices = tf.config.get_visible_devices()\n",
    "    for device in visible_devices:\n",
    "        assert device.device_type != 'GPU'\n",
    "except:\n",
    "    # Invalid device or cannot modify virtual devices once initialized.\n",
    "    pass"
   ]
  },
  {
   "cell_type": "code",
   "execution_count": 4,
   "id": "f7862fd2",
   "metadata": {},
   "outputs": [],
   "source": [
    "# df = pd.read_pickle(r\"../../Datasets/Dataset_A_resized_256.pkl\")"
   ]
  },
  {
   "cell_type": "code",
   "execution_count": 5,
   "id": "e2bbd2c0",
   "metadata": {},
   "outputs": [],
   "source": [
    "# print(\"MR Image shape:   {}\".format(df[\"Tumor Mask\"][0].shape))\n",
    "# print(\"Tumor Mask shape: {}\".format(df[\"Tumor Mask\"][0].shape))"
   ]
  },
  {
   "cell_type": "code",
   "execution_count": 6,
   "id": "6d4acb54",
   "metadata": {},
   "outputs": [],
   "source": [
    "def normalize(img):\n",
    "    plt.imsave('DR.png', img, cmap='gray')\n",
    "    return cv2.imread('DR.png')[:, :, 0]\n",
    "\n",
    "# df.Images = df.Images.apply(normalize)"
   ]
  },
  {
   "cell_type": "code",
   "execution_count": 7,
   "id": "0619f3f5",
   "metadata": {},
   "outputs": [],
   "source": [
    "classes_dict = {\"Not Tumor\": 0, \"Meningioma\": 1, \"Glioma\": 2, \"Pituitary\": 3}\n",
    "# for index, row in df.iterrows():\n",
    "#     row[\"Tumor Mask\"] = row[\"Tumor Mask\"] * classes_dict[row[\"Labels\"]]\n",
    "#     row[\"Images\"] = normalize(row[\"Images\"])"
   ]
  },
  {
   "cell_type": "code",
   "execution_count": 8,
   "id": "c74cdd05",
   "metadata": {},
   "outputs": [
    {
     "data": {
      "text/plain": [
       "4"
      ]
     },
     "execution_count": 8,
     "metadata": {},
     "output_type": "execute_result"
    }
   ],
   "source": [
    "2+2"
   ]
  },
  {
   "cell_type": "code",
   "execution_count": 9,
   "id": "1fa83453",
   "metadata": {},
   "outputs": [],
   "source": [
    "# df.head()"
   ]
  },
  {
   "cell_type": "code",
   "execution_count": 10,
   "id": "fa0bc48a",
   "metadata": {},
   "outputs": [],
   "source": [
    "# randInt = np.random.randint(0,len(df))\n",
    "\n",
    "# # create figure\n",
    "# fig = plt.figure(figsize=(10, 7))\n",
    "  \n",
    "# # setting values to rows and column variables\n",
    "# rows = 1\n",
    "# columns = 2\n",
    "\n",
    "# img  = df.Images[randInt]\n",
    "# mask = df[\"Tumor Mask\"][randInt]\n",
    "# tumorBorder = df[\"Tumor Border\"][randInt]\n",
    "\n",
    "\n",
    "# # Display Original Image\n",
    "# fig.add_subplot(rows, columns, 1)\n",
    "# plt.imshow(img, cmap='gray')\n",
    "# plt.title('Original Image ({})'.format(df.Labels[randInt]))\n",
    "# plt.axis('off')\n",
    "  \n",
    "# # Display Tumor Mask\n",
    "# fig.add_subplot(rows, columns, 2)\n",
    "# plt.imshow(mask, cmap='gray')\n",
    "# plt.title('Tumor Mask ({})'.format(np.unique(mask)))\n",
    "# plt.axis('off')\n",
    "# plt.show()"
   ]
  },
  {
   "cell_type": "code",
   "execution_count": 11,
   "id": "4a9b842a",
   "metadata": {},
   "outputs": [],
   "source": [
    "# ## Splitting Images form masks\n",
    "# img_size = 256\n",
    "\n",
    "# Y = df[\"Tumor Mask\"].tolist()\n",
    "# X = df['Images'].tolist()\n",
    "\n",
    "# ## Adding extra Color channel to the grayscale images\n",
    "# Y = np.array(Y).reshape(-1, img_size, img_size)\n",
    "# Y = Y.astype(float)\n",
    "\n",
    "# X = np.array(X).reshape(-1, img_size, img_size)\n",
    "\n",
    "# print(f\"shape of images: {X.shape}\\nshape of labels: {Y.shape}\")"
   ]
  },
  {
   "cell_type": "code",
   "execution_count": 12,
   "id": "7d45b921",
   "metadata": {},
   "outputs": [],
   "source": [
    "# from sklearn.preprocessing import LabelEncoder\n",
    "\n",
    "# train_masks = Y\n",
    "# labelencoder = LabelEncoder()\n",
    "# n, h, w = train_masks.shape\n",
    "# train_masks_reshaped = train_masks.reshape(-1,1)\n",
    "# train_masks_reshaped_encoded = labelencoder.fit_transform(train_masks_reshaped.ravel())\n",
    "# train_masks_encoded_original_shape = train_masks_reshaped_encoded.reshape(n, h, w)\n",
    "\n",
    "# np.unique(train_masks_encoded_original_shape)"
   ]
  },
  {
   "cell_type": "code",
   "execution_count": 13,
   "id": "fbd0d42f",
   "metadata": {},
   "outputs": [],
   "source": [
    "# from tensorflow.keras.utils import normalize\n",
    "\n",
    "# train_images = np.expand_dims(X, axis=3)\n",
    "# train_images = train_images/255\n",
    "\n",
    "# train_masks_input = np.expand_dims(train_masks_encoded_original_shape, axis=3)"
   ]
  },
  {
   "cell_type": "code",
   "execution_count": 14,
   "id": "5e80731c",
   "metadata": {},
   "outputs": [],
   "source": [
    "# from sklearn.model_selection import train_test_split\n",
    "# from tensorflow.keras.utils import to_categorical\n",
    "# n_classes = len(np.unique(train_masks_input))\n",
    "\n",
    "# X_train, X_test, y_train, y_test = train_test_split(train_images, train_masks_input, test_size=0.25, random_state=42)\n",
    "# print(\"Class values in the dataset are ... \", np.unique(y_train))  # 0 is the background/few unlabeled \n",
    "\n",
    "\n",
    "# train_masks_cat = to_categorical(y_train, num_classes=n_classes)\n",
    "# y_train_cat = train_masks_cat.reshape((y_train.shape[0], y_train.shape[1], y_train.shape[2], n_classes))\n",
    "\n",
    "\n",
    "\n",
    "# test_masks_cat = to_categorical(y_test, num_classes=n_classes)\n",
    "# y_test_cat = test_masks_cat.reshape((y_test.shape[0], y_test.shape[1], y_test.shape[2], n_classes))"
   ]
  },
  {
   "cell_type": "code",
   "execution_count": 15,
   "id": "0b2fc0d4",
   "metadata": {},
   "outputs": [],
   "source": [
    "# print(\"X_train shape:\", X_train.shape,\"| y_train shape:\", y_train_cat.shape)\n",
    "# print(\"X_test shape :\",X_test.shape,\"| y_test shape : \", y_test_cat.shape)\n",
    "\n",
    "# print(\"\\nTotal Data: \", len(df))"
   ]
  },
  {
   "cell_type": "code",
   "execution_count": 16,
   "id": "2b2ada49",
   "metadata": {},
   "outputs": [],
   "source": [
    "# plt.imshow(y_test_cat[0, :, :, 0], 'gray')"
   ]
  },
  {
   "cell_type": "code",
   "execution_count": 17,
   "id": "f3d29f37",
   "metadata": {},
   "outputs": [],
   "source": [
    "# plt.imshow(y_test_cat[0, :, :, 1], 'gray')"
   ]
  },
  {
   "cell_type": "code",
   "execution_count": 18,
   "id": "c0e8ef1a",
   "metadata": {},
   "outputs": [],
   "source": [
    "# plt.imshow(y_test_cat[0, :, :, 2], 'gray')"
   ]
  },
  {
   "cell_type": "code",
   "execution_count": 19,
   "id": "4bd24560",
   "metadata": {},
   "outputs": [],
   "source": [
    "# plt.imshow(y_test_cat[0, :, :, 3], 'gray')"
   ]
  },
  {
   "cell_type": "code",
   "execution_count": 20,
   "id": "aaf27a39",
   "metadata": {},
   "outputs": [],
   "source": [
    "# plt.imshow(X_test[0, :, :, :], 'gray')"
   ]
  },
  {
   "cell_type": "code",
   "execution_count": 21,
   "id": "3380d43c",
   "metadata": {},
   "outputs": [],
   "source": [
    "# X_test[0, :, :, :].max()"
   ]
  },
  {
   "cell_type": "code",
   "execution_count": null,
   "id": "6dcedf94",
   "metadata": {},
   "outputs": [],
   "source": []
  },
  {
   "cell_type": "code",
   "execution_count": null,
   "id": "19da3988",
   "metadata": {},
   "outputs": [],
   "source": []
  },
  {
   "cell_type": "code",
   "execution_count": 22,
   "id": "f02fb2f4",
   "metadata": {},
   "outputs": [],
   "source": [
    "# from sklearn.utils import class_weight\n",
    "# class_weights = class_weight.compute_class_weight(class_weight = 'balanced',\n",
    "#                                                  classes = np.unique(train_masks_reshaped_encoded),\n",
    "#                                                  y = train_masks_reshaped_encoded)\n",
    "# print(\"Class weights are...:\", class_weights)\n",
    "\n",
    "\n",
    "# IMG_HEIGHT = X_train.shape[1]\n",
    "# IMG_WIDTH  = X_train.shape[2]\n",
    "# IMG_CHANNELS = X_train.shape[3]"
   ]
  },
  {
   "cell_type": "code",
   "execution_count": 23,
   "id": "633da7e2",
   "metadata": {},
   "outputs": [],
   "source": [
    "# class_weights = {0: class_weights[0], 1: class_weights[1], 2: class_weights[2], 3: class_weights[3]}\n",
    "# print(\"Class weights are...:\", class_weights)"
   ]
  },
  {
   "cell_type": "code",
   "execution_count": 24,
   "id": "093a66ea",
   "metadata": {},
   "outputs": [],
   "source": [
    "# # Building Unet by dividing encoder and decoder into blocks\n",
    "# def conv_block(input, num_filters):\n",
    "#     x = Conv2D(num_filters, 3, padding=\"same\")(input)\n",
    "#     x = BatchNormalization()(x)   #Not in the original network. \n",
    "#     x = Activation(\"relu\")(x)\n",
    "\n",
    "#     x = Conv2D(num_filters, 3, padding=\"same\")(x)\n",
    "#     x = BatchNormalization()(x)  #Not in the original network\n",
    "#     x = Activation(\"relu\")(x)\n",
    "\n",
    "#     return x\n",
    "\n",
    "# #Encoder block: Conv block followed by maxpooling\n",
    "\n",
    "\n",
    "# def encoder_block(input, num_filters):\n",
    "#     x = conv_block(input, num_filters)\n",
    "#     p = MaxPool2D((2, 2))(x)\n",
    "#     return x, p   \n",
    "\n",
    "# #Decoder block\n",
    "# #skip features gets input from encoder for concatenation\n",
    "\n",
    "# def decoder_block(input, skip_features, num_filters):\n",
    "#     x = Conv2DTranspose(num_filters, (2, 2), strides=2, padding=\"same\")(input)\n",
    "#     x = Concatenate()([x, skip_features])\n",
    "#     x = conv_block(x, num_filters)\n",
    "#     return x\n",
    "\n",
    "# #Build Unet using the blocks\n",
    "# def build_unet(n_classes, input_shape):\n",
    "#     inputs = Input(input_shape)\n",
    "\n",
    "#     s1, p1 = encoder_block(inputs, 64)\n",
    "#     s2, p2 = encoder_block(p1, 128)\n",
    "#     s3, p3 = encoder_block(p2, 256)\n",
    "#     s4, p4 = encoder_block(p3, 512)\n",
    "\n",
    "#     b1 = conv_block(p4, 1024) #Bridge\n",
    "\n",
    "#     d1 = decoder_block(b1, s4, 512)\n",
    "#     d2 = decoder_block(d1, s3, 256)\n",
    "#     d3 = decoder_block(d2, s2, 128)\n",
    "#     d4 = decoder_block(d3, s1, 64)\n",
    "\n",
    "#     outputs = Conv2D(n_classes, (1, 1), activation='softmax')(d4)  #Binary (can be multiclass)\n",
    "\n",
    "#     model = Model(inputs, outputs, name=\"U-Net\")\n",
    "#     return model\n"
   ]
  },
  {
   "cell_type": "code",
   "execution_count": 25,
   "id": "aa40f48e",
   "metadata": {},
   "outputs": [],
   "source": [
    "# import os\n",
    "# exp_num = []\n",
    "# if not os.path.exists(\"./experiments\"):\n",
    "#     os.mkdir(\"./experiments\")\n",
    "# folders = os.listdir(\"./experiments\")\n",
    "# for folder in folders:\n",
    "#     exp_num.append(int(folder.split(\"#\")[1]))\n",
    "\n",
    "\n",
    "# if len(exp_num) == 0:\n",
    "#     exp_path = r\"./experiments/exp#1\"\n",
    "# else:\n",
    "#     exp_path = r\"./experiments/exp#\"+str(max(exp_num)+1)\n",
    "\n",
    "\n",
    "\n",
    "\n",
    "# os.mkdir(exp_path)\n",
    "# os.mkdir(os.path.join(exp_path, \"results\"))\n",
    "# os.mkdir(os.path.join(exp_path, \"weights\"))\n",
    "\n",
    "# results = os.path.join(exp_path, \"results\")\n",
    "# weights = os.path.join(exp_path, \"weights\")"
   ]
  },
  {
   "cell_type": "code",
   "execution_count": 26,
   "id": "737080fe",
   "metadata": {},
   "outputs": [],
   "source": [
    "# input_shape = (IMG_HEIGHT, IMG_WIDTH, IMG_CHANNELS)\n",
    "\n",
    "# model = build_unet(n_classes, input_shape)\n",
    "# model.compile(optimizer='adam', loss='categorical_crossentropy', metrics=['accuracy'])\n",
    "# model.summary()"
   ]
  },
  {
   "cell_type": "code",
   "execution_count": null,
   "id": "c1a06225",
   "metadata": {},
   "outputs": [],
   "source": []
  },
  {
   "cell_type": "code",
   "execution_count": 27,
   "id": "a4badb62",
   "metadata": {},
   "outputs": [],
   "source": [
    "# from keras.callbacks import ModelCheckpoint\n",
    "\n",
    "# model_checkpoint_callback = ModelCheckpoint(\n",
    "#     filepath= os.path.join(weights, \"best.h5\"),\n",
    "#     verbose=1, \n",
    "#     save_best_only=False, \n",
    "#     mode='max')\n",
    "    \n",
    "# model.fit(X_train, \n",
    "#         y_train_cat, \n",
    "#         batch_size = 4, \n",
    "#         verbose=1, \n",
    "#         epochs=60, \n",
    "#         validation_data=(X_test, y_test_cat), \n",
    "#         callbacks=[model_checkpoint_callback],\n",
    "# #         sample_weight=np.array(class_weights),\n",
    "#         shuffle=False)"
   ]
  },
  {
   "cell_type": "code",
   "execution_count": 28,
   "id": "0fced661",
   "metadata": {},
   "outputs": [],
   "source": [
    "# acc = model.evaluate(X_test, y_test_cat)[0]\n",
    "# name = str(round(acc, 4))"
   ]
  },
  {
   "cell_type": "code",
   "execution_count": 29,
   "id": "3ad6d8ce",
   "metadata": {},
   "outputs": [],
   "source": [
    "# Save The Trained model along with it training history   \n",
    "# metrics.to_pickle(os.path.join(results, name+'.pkl'))\n",
    "# model.save(os.path.join(weights, \"First_Mulit_UNet\" + '.h5'))"
   ]
  },
  {
   "cell_type": "code",
   "execution_count": 30,
   "id": "516e7687",
   "metadata": {},
   "outputs": [],
   "source": [
    "# np.save(\"X_test.npy\", X_test)\n",
    "# np.save(\"y_test.npy\", y_test)"
   ]
  },
  {
   "cell_type": "code",
   "execution_count": 31,
   "id": "c69f4f4e",
   "metadata": {},
   "outputs": [],
   "source": [
    "X_test = np.load(\"X_test.npy\")\n",
    "y_test = np.load(\"y_test.npy\")"
   ]
  },
  {
   "cell_type": "code",
   "execution_count": 32,
   "id": "0b837a29",
   "metadata": {},
   "outputs": [],
   "source": [
    "model = tf.keras.models.load_model(r\".\\experiments\\exp#16\\weights\\best.h5\")\n",
    "metrics = pd.read_pickle(r\".\\experiments\\exp#16\\results\\metrics.pkl\"\"\")"
   ]
  },
  {
   "cell_type": "code",
   "execution_count": null,
   "id": "3cad384d",
   "metadata": {},
   "outputs": [],
   "source": []
  },
  {
   "cell_type": "code",
   "execution_count": 33,
   "id": "0157e81f",
   "metadata": {},
   "outputs": [
    {
     "data": {
      "image/png": "[encoded data removed]",
      "text/plain": [
       "<Figure size 432x288 with 1 Axes>"
      ]
     },
     "metadata": {
      "needs_background": "light"
     },
     "output_type": "display_data"
    },
    {
     "data": {
      "image/png": "[encoded data removed]",
      "text/plain": [
       "<Figure size 432x288 with 1 Axes>"
      ]
     },
     "metadata": {
      "needs_background": "light"
     },
     "output_type": "display_data"
    }
   ],
   "source": [
    "loss = metrics['loss']\n",
    "val_loss = metrics['val_loss']\n",
    "epochs = range(1, len(loss) + 1)\n",
    "plt.plot(epochs, loss, 'y', label='Training loss')\n",
    "plt.plot(epochs, val_loss, 'r', label='Validation loss')\n",
    "plt.title('Training and validation loss')\n",
    "plt.xlabel('Epochs')\n",
    "plt.ylabel('Loss')\n",
    "plt.legend()\n",
    "plt.show()\n",
    "\n",
    "accuracy = metrics['accuracy']\n",
    "val_accuracy = metrics['val_accuracy']\n",
    "\n",
    "plt.plot(epochs, accuracy, 'y', label='Training Accuracy')\n",
    "plt.plot(epochs, val_accuracy, 'r', label='Validation Accuracy')\n",
    "plt.title('Training and validation Accuracy')\n",
    "plt.xlabel('Epochs')\n",
    "plt.ylabel('Accuracy')\n",
    "plt.legend()\n",
    "plt.show()"
   ]
  },
  {
   "cell_type": "code",
   "execution_count": 34,
   "id": "7ce2e959",
   "metadata": {},
   "outputs": [
    {
     "name": "stdout",
     "output_type": "stream",
     "text": [
      "Mean IoU = 0.7824102\n",
      "[[1.6777216e+07 1.0435000e+04 5.6526000e+04 1.0507000e+04]\n",
      " [2.5802000e+04 2.0103300e+05 4.3850000e+03 4.0770000e+03]\n",
      " [1.7018700e+05 3.7200000e+02 3.2249200e+05 5.7000000e+01]\n",
      " [2.2714000e+04 5.7000000e+01 1.1000000e+01 1.1121700e+05]]\n",
      "IoU for class1 is:  0.98265314\n",
      "IoU for class2 is:  0.8166728\n",
      "IoU for class3 is:  0.582084\n",
      "IoU for class4 is:  0.74823064\n"
     ]
    }
   ],
   "source": [
    "#IOU\n",
    "y_pred=model.predict(X_test)\n",
    "y_pred_argmax=np.argmax(y_pred, axis=3)\n",
    "\n",
    "##################################################\n",
    "\n",
    "#Using built in keras function\n",
    "from keras.metrics import MeanIoU\n",
    "n_classes = 4\n",
    "IOU_keras = MeanIoU(num_classes=n_classes)  \n",
    "IOU_keras.update_state(y_test[:,:,:,0], y_pred_argmax)\n",
    "print(\"Mean IoU =\", IOU_keras.result().numpy())\n",
    "\n",
    "\n",
    "#To calculate I0U for each class...\n",
    "values = np.array(IOU_keras.get_weights()).reshape(n_classes, n_classes)\n",
    "print(values)\n",
    "class1_IoU = values[0,0]/(values[0,0] + values[0,1] + values[0,2] + values[0,3] + values[1,0]+ values[2,0]+ values[3,0])\n",
    "class2_IoU = values[1,1]/(values[1,1] + values[1,0] + values[1,2] + values[1,3] + values[0,1]+ values[2,1]+ values[3,1])\n",
    "class3_IoU = values[2,2]/(values[2,2] + values[2,0] + values[2,1] + values[2,3] + values[0,2]+ values[1,2]+ values[3,2])\n",
    "class4_IoU = values[3,3]/(values[3,3] + values[3,0] + values[3,1] + values[3,2] + values[0,3]+ values[1,3]+ values[2,3])\n",
    "\n",
    "print(\"IoU for class1 is: \", class1_IoU)\n",
    "print(\"IoU for class2 is: \", class2_IoU)\n",
    "print(\"IoU for class3 is: \", class3_IoU)\n",
    "print(\"IoU for class4 is: \", class4_IoU)\n",
    "\n",
    "# plt.imshow(train_images[0, :,:,0], cmap='gray')\n",
    "# plt.imshow(train_masks[0], cmap='gray')"
   ]
  },
  {
   "cell_type": "code",
   "execution_count": 35,
   "id": "dec34e48",
   "metadata": {},
   "outputs": [],
   "source": [
    "def prob_class(predicted_img, class_dic):\n",
    "    rev_classes_dict = dict([(value, key) for key, value in class_dic.items()])\n",
    "    result = \"\"\n",
    "    if len(np.unique(predicted_img)) == 1:\n",
    "        result = \"(No Tumor)\"\n",
    "    else:\n",
    "        for cls in np.unique(predicted_img):\n",
    "            if cls != 0:\n",
    "                prob = (predicted_img == cls).sum() / (0 != predicted_img).sum() \n",
    "                result += \"({} {}%) \".format(rev_classes_dict[cls], str( round(prob*100, 2) ))\n",
    "\n",
    "    return result"
   ]
  },
  {
   "cell_type": "code",
   "execution_count": 46,
   "id": "285c2987",
   "metadata": {},
   "outputs": [
    {
     "data": {
      "image/png": "[encoded data removed]",
      "text/plain": [
       "<Figure size 864x576 with 3 Axes>"
      ]
     },
     "metadata": {
      "needs_background": "light"
     },
     "output_type": "display_data"
    }
   ],
   "source": [
    "import random\n",
    "test_img_number = random.randint(0, len(X_test))\n",
    "rev_classes_dict = dict([(value, key) for key, value in classes_dict.items()])\n",
    "\n",
    "\n",
    "\n",
    "test_img = X_test[test_img_number]\n",
    "ground_truth=y_test[test_img_number]\n",
    "\n",
    "test_img_norm=test_img[:,:,0][:,:,None]\n",
    "test_img_input=np.expand_dims(test_img_norm, 0)\n",
    "prediction = (model.predict(test_img_input))\n",
    "predicted_img=np.argmax(prediction, axis=3)[0,:,:]\n",
    "\n",
    "\n",
    "plt.figure(figsize=(12, 8))\n",
    "plt.subplot(231)\n",
    "plt.title('Testing Image')\n",
    "plt.imshow(test_img[:,:,0], cmap='gray')\n",
    "\n",
    "plt.subplot(232)\n",
    "plt.title('Testing Label\\n({})'.format(rev_classes_dict[np.unique(ground_truth)[1]]))\n",
    "plt.imshow(ground_truth[:,:,0], cmap='jet')\n",
    "\n",
    "plt.subplot(233)\n",
    "plt.title('Prediction on test image\\n{}'.format(prob_class(predicted_img, classes_dict)))\n",
    "plt.imshow(predicted_img, cmap='jet')\n",
    "plt.show()"
   ]
  },
  {
   "cell_type": "code",
   "execution_count": null,
   "id": "2feadeea",
   "metadata": {},
   "outputs": [],
   "source": []
  }
 ],
 "metadata": {
  "kernelspec": {
   "display_name": "Python 3 (ipykernel)",
   "language": "python",
   "name": "python3"
  },
  "language_info": {
   "codemirror_mode": {
    "name": "ipython",
    "version": 3
   },
   "file_extension": ".py",
   "mimetype": "text/x-python",
   "name": "python",
   "nbconvert_exporter": "python",
   "pygments_lexer": "ipython3",
   "version": "3.9.7"
  }
 },
 "nbformat": 4,
 "nbformat_minor": 5
}
